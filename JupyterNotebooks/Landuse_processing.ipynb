{
 "cells": [
  {
   "cell_type": "markdown",
   "metadata": {},
   "source": [
    "# Useful functions"
   ]
  },
  {
   "cell_type": "code",
   "execution_count": 1,
   "metadata": {},
   "outputs": [],
   "source": [
    "#get_polygons_coordinates(geometry)"
   ]
  },
  {
   "cell_type": "code",
   "execution_count": 2,
   "metadata": {},
   "outputs": [],
   "source": [
    "# Project WGS84 CRS geometry to UTM CRS geometry\n",
    "#geometry_proj, crs_proj = project_geometry(polygon)\n",
    "\n",
    "#Project UTM CRS geometry to WGS84 CRS geometry\n",
    "#geometry, _ = project_geometry(geometry_proj_consolidated_subdivided, crs=crs_proj, to_latlong=True)"
   ]
  },
  {
   "cell_type": "markdown",
   "metadata": {},
   "source": [
    "## Warto sprawdzić to żeby pociać finalny prostokąt na kafelki PV"
   ]
  },
  {
   "cell_type": "code",
   "execution_count": 3,
   "metadata": {},
   "outputs": [],
   "source": [
    "#quadrat_cut_geometry(geometry, quadrat_width, min_num=3, buffer_amount=1e-9):"
   ]
  },
  {
   "cell_type": "markdown",
   "metadata": {},
   "source": [
    "### Export data to CSV if needed"
   ]
  },
  {
   "cell_type": "code",
   "execution_count": 4,
   "metadata": {},
   "outputs": [],
   "source": [
    "#farmland_footprints.to_csv(r'C:\\Users\\daniel.stankiewicz\\Desktop\\OSM_PVfarmPotential-master\\CSV files\\farmland_footprints.csv')"
   ]
  },
  {
   "cell_type": "markdown",
   "metadata": {},
   "source": [
    "### Import necessary modules"
   ]
  },
  {
   "cell_type": "code",
   "execution_count": 5,
   "metadata": {},
   "outputs": [],
   "source": [
    "import osmnx as ox\n",
    "import geopandas as gpd\n",
    "import matplotlib.pyplot as plt\n",
    "import numpy as np\n",
    "import maxrect\n",
    "import cvxpy\n",
    "#from maxrect import get_maximal_rectangle, pts_to_leq\n",
    "from shapely.geometry import Polygon, MultiPolygon, LineString\n",
    "from shapely.ops import unary_union"
   ]
  },
  {
   "cell_type": "markdown",
   "metadata": {},
   "source": [
    "### Define all helper functions"
   ]
  },
  {
   "cell_type": "code",
   "execution_count": 6,
   "metadata": {},
   "outputs": [],
   "source": [
    "def download_footprints(west, south, east, north,footprints_type = 'landuse'):\n",
    "    polygon = ox.bbox_to_poly(north,south,east,west)\n",
    "    footprints_gdf = ox.footprints_from_polygon(polygon,footprint_type=footprints_type)\n",
    "    \n",
    "    return polygon, footprints_gdf\n",
    "\n",
    "\n",
    "def filter_footprints(footprints_gdf, footprints_type = 'landuse', chosenFootprints = ['farmland','forest','grass','meadow']):\n",
    "    filtered_gdf = footprints_gdf.loc[footprints_gdf[footprints_type].isin(chosenFootprints)]\n",
    "    \n",
    "    return filtered_gdf\n",
    "\n",
    "\n",
    "#def show_footprints(footprints_gdf):\n",
    "#    fig,ax = ox.plot_footprints(footprints_gdf)\n"
   ]
  },
  {
   "cell_type": "markdown",
   "metadata": {},
   "source": [
    "### User input - bounding box required"
   ]
  },
  {
   "cell_type": "code",
   "execution_count": 7,
   "metadata": {},
   "outputs": [],
   "source": [
    "#west, south, east, north = 18.5685998807,50.8595154681,18.5807532856,50.8629457573\n",
    "west, south, east, north = 21.8400832534,53.5136264306,21.8566314104,53.518393078\n",
    "#west, south, east, north = 21.890483,53.51505,21.910353,53.51971\n",
    "#west, south, east, north = 20.7724649696,52.2912388736,20.7842924401,52.2959529584"
   ]
  },
  {
   "cell_type": "markdown",
   "metadata": {},
   "source": [
    "### Create polygon from bbox and download footprints for given region"
   ]
  },
  {
   "cell_type": "code",
   "execution_count": 8,
   "metadata": {},
   "outputs": [],
   "source": [
    "poly, footprints_landuse_gdf = download_footprints(west,south,east,north)\n",
    "filtered_footprints_landuse_gdf = filter_footprints(footprints_landuse_gdf)"
   ]
  },
  {
   "cell_type": "markdown",
   "metadata": {},
   "source": [
    "# TO DELETE START "
   ]
  },
  {
   "cell_type": "markdown",
   "metadata": {},
   "source": [
    "###### Both examples are coordinate systems. The difference is that WGS 84 is a geographic coordinate system, and UTM is a projected coordinate system. Geographic coordinate systems are based on a spheroid and utilize angular units (degrees). Projected coordinate systems are based on a plane (the spheroid projected onto a 2D surface) and utilize linear units (feet, meters, etc.)."
   ]
  },
  {
   "cell_type": "code",
   "execution_count": 9,
   "metadata": {},
   "outputs": [
    {
     "data": {
      "text/plain": [
       "'+proj=longlat +ellps=WGS84 +datum=WGS84 +no_defs'"
      ]
     },
     "execution_count": 9,
     "metadata": {},
     "output_type": "execute_result"
    }
   ],
   "source": [
    "filtered_footprints_landuse_gdf.crs"
   ]
  },
  {
   "cell_type": "code",
   "execution_count": 10,
   "metadata": {},
   "outputs": [
    {
     "data": {
      "text/plain": [
       "False"
      ]
     },
     "execution_count": 10,
     "metadata": {},
     "output_type": "execute_result"
    }
   ],
   "source": [
    "ox.is_crs_utm(filtered_footprints_landuse_gdf.crs)"
   ]
  },
  {
   "cell_type": "markdown",
   "metadata": {},
   "source": [
    "# TO DELETE END"
   ]
  },
  {
   "cell_type": "code",
   "execution_count": 11,
   "metadata": {},
   "outputs": [
    {
     "name": "stdout",
     "output_type": "stream",
     "text": [
      "Polygon type:\n",
      "<class 'shapely.geometry.polygon.Polygon'>\n",
      "\n",
      "List of related footprints downloaded from given area:\n",
      "['forest' 'meadow']\n",
      "\n",
      "List of related footprints after filtering:\n",
      "['forest' 'meadow']\n"
     ]
    }
   ],
   "source": [
    "print(\"Polygon type:\\n{0}\\n\\nList of related footprints downloaded from given area:\\n{1}\\n\\nList of related footprints after filtering:\\n{2}\".format(type(poly),footprints_landuse_gdf.landuse.unique(),filtered_footprints_landuse_gdf.landuse.unique()))"
   ]
  },
  {
   "cell_type": "markdown",
   "metadata": {},
   "source": [
    "### Plot each type of downloaded footprints"
   ]
  },
  {
   "cell_type": "code",
   "execution_count": 12,
   "metadata": {},
   "outputs": [],
   "source": [
    "forest_footprints = filtered_footprints_landuse_gdf[filtered_footprints_landuse_gdf['landuse']=='forest']\n",
    "farmland_footprints = filtered_footprints_landuse_gdf[filtered_footprints_landuse_gdf['landuse']=='farmland']\n",
    "meadow_footprints = filtered_footprints_landuse_gdf[filtered_footprints_landuse_gdf['landuse']=='meadow']\n",
    "grass_footprints = filtered_footprints_landuse_gdf[filtered_footprints_landuse_gdf['landuse']=='grass']"
   ]
  },
  {
   "cell_type": "code",
   "execution_count": 13,
   "metadata": {},
   "outputs": [
    {
     "name": "stderr",
     "output_type": "stream",
     "text": [
      "C:\\ProgramData\\Anaconda3\\envs\\ox\\lib\\site-packages\\geopandas\\plotting.py:510: UserWarning: The GeoDataFrame you are attempting to plot is empty. Nothing has been displayed.\n",
      "  UserWarning,\n",
      "C:\\ProgramData\\Anaconda3\\envs\\ox\\lib\\site-packages\\geopandas\\plotting.py:510: UserWarning: The GeoDataFrame you are attempting to plot is empty. Nothing has been displayed.\n",
      "  UserWarning,\n"
     ]
    },
    {
     "data": {
      "image/png": "[encoded data removed]",
      "text/plain": [
       "<Figure size 864x576 with 1 Axes>"
      ]
     },
     "metadata": {
      "needs_background": "light"
     },
     "output_type": "display_data"
    }
   ],
   "source": [
    "fig, ax = plt.subplots(figsize=(12,8))\n",
    "\n",
    "# Plot forests\n",
    "forest_footprints.plot(ax=ax, facecolor='green')\n",
    "\n",
    "# Plot farmlands\n",
    "farmland_footprints.plot(ax=ax, facecolor=\"blue\")\n",
    "\n",
    "# Plot meadows\n",
    "meadow_footprints.plot(ax=ax, facecolor=\"black\")\n",
    "\n",
    "# Plot grass\n",
    "grass_footprints.plot(ax=ax, facecolor='yellow')\n",
    "\n",
    "plt.tight_layout()"
   ]
  },
  {
   "cell_type": "markdown",
   "metadata": {},
   "source": [
    "### Make an intersection betweeen downloaded relation footprints and given boundry box"
   ]
  },
  {
   "cell_type": "code",
   "execution_count": 14,
   "metadata": {},
   "outputs": [
    {
     "data": {
      "text/plain": [
       "<matplotlib.axes._subplots.AxesSubplot at 0x1f4f8c207b8>"
      ]
     },
     "execution_count": 14,
     "metadata": {},
     "output_type": "execute_result"
    },
    {
     "data": {
      "image/png": "[encoded data removed]",
      "text/plain": [
       "<Figure size 432x288 with 1 Axes>"
      ]
     },
     "metadata": {
      "needs_background": "light"
     },
     "output_type": "display_data"
    }
   ],
   "source": [
    "landuse_bbox = filtered_footprints_landuse_gdf['geometry'].intersection(poly)\n",
    "landuse_bbox_gdf = gpd.GeoDataFrame(geometry=landuse_bbox)\n",
    "landuse_bbox_gdf = landuse_bbox_gdf[landuse_bbox_gdf.is_empty == False]\n",
    "landuse_bbox_gdf.plot()"
   ]
  },
  {
   "cell_type": "code",
   "execution_count": 15,
   "metadata": {},
   "outputs": [
    {
     "name": "stdout",
     "output_type": "stream",
     "text": [
      "landuse_bbox_gdf is in format <class 'geopandas.geodataframe.GeoDataFrame'> \n",
      "and landuse_bbox is in format <class 'geopandas.geoseries.GeoSeries'>\n"
     ]
    }
   ],
   "source": [
    "print(\"landuse_bbox_gdf is in format {0} \\nand landuse_bbox is in format {1}\".format(type(landuse_bbox_gdf),type(landuse_bbox)))"
   ]
  },
  {
   "cell_type": "markdown",
   "metadata": {},
   "source": [
    "### Create single polygon from intersected GeoDataFrame"
   ]
  },
  {
   "cell_type": "code",
   "execution_count": 16,
   "metadata": {},
   "outputs": [
    {
     "data": {
      "image/svg+xml": [
       "<svg xmlns=\"http://www.w3.org/2000/svg\" xmlns:xlink=\"http://www.w3.org/1999/xlink\" width=\"100.0\" height=\"100.0\" viewBox=\"21.83942132712 53.512964504319996 0.017872009559997792 0.006090499960009765\" preserveAspectRatio=\"xMinYMin meet\"><g transform=\"matrix(1,0,0,-1,0,107.0320195086)\"><g><path fill-rule=\"evenodd\" fill=\"#66cc99\" stroke=\"#555555\" stroke-width=\"0.00035744019119995587\" opacity=\"0.6\" d=\"M 21.84110599422006,53.5136264306 L 21.8422795,53.5140435 L 21.8428696,53.5143479 L 21.8434312,53.5144324 L 21.8435733,53.514593 L 21.8438719,53.514593 L 21.8441136,53.5144705 L 21.8439999,53.5142971 L 21.8438293,53.5141619 L 21.8438932,53.5140604 L 21.8443269,53.5139548 L 21.8441421,53.5137603 L 21.8440212,53.5136419 L 21.8440212,53.5136264306 L 21.84309778720029,53.5136264306 L 21.8430686,53.5136631 L 21.8427771,53.5136631 L 21.842898,53.5137814 L 21.8436302,53.5137688 L 21.8437226,53.5139252 L 21.8435662,53.5140689 L 21.8430828,53.5140773 L 21.8427061,53.5139125 L 21.8424146,53.5137561 L 21.8419099,53.5136927 L 21.841847984699868,53.5136264306 L 21.84110599422006,53.5136264306 z\" /><path fill-rule=\"evenodd\" fill=\"#66cc99\" stroke=\"#555555\" stroke-width=\"0.00035744019119995587\" opacity=\"0.6\" d=\"M 21.847782275922707,53.5136264306 L 21.8477653,53.5138188 L 21.8482772,53.5140264 L 21.847742,53.5144553 L 21.8478118,53.5152302 L 21.8484401,53.515244 L 21.8485564,53.5154654 L 21.8474395,53.5157006 L 21.8463691,53.515839 L 21.8453219,53.5153409 L 21.8445075,53.5161572 L 21.8443678,53.5166692 L 21.8444376,53.5171258 L 21.844298,53.517444 L 21.8436697,53.5174717 L 21.8431578,53.5178037 L 21.8427855,53.5178314 L 21.8426691,53.5182465 L 21.84275386161735,53.518393078 L 21.8566314104,53.518393078 L 21.8566314104,53.5136264306 L 21.847782275922707,53.5136264306 z\" /><path fill-rule=\"evenodd\" fill=\"#66cc99\" stroke=\"#555555\" stroke-width=\"0.00035744019119995587\" opacity=\"0.6\" d=\"M 21.841970806057827,53.518393078 L 21.8419952,53.518355 L 21.8422227,53.5183338 L 21.8424146,53.5175308 L 21.8424288,53.5174082 L 21.8422582,53.5173194 L 21.8423648,53.5171377 L 21.842571,53.5170024 L 21.8424288,53.5166347 L 21.8425283,53.5165375 L 21.8427203,53.5170531 L 21.8424999,53.5172011 L 21.8425994,53.5173025 L 21.8428625,53.5172729 L 21.8428482,53.5171842 L 21.8431184,53.5170616 L 21.843289,53.5167826 L 21.8431397,53.5164825 L 21.843289,53.5164191 L 21.8434738,53.5165628 L 21.8435023,53.5164783 L 21.843161,53.5160598 L 21.8427771,53.5158781 L 21.8425497,53.515747 L 21.8424644,53.5154934 L 21.8425781,53.5154004 L 21.8425212,53.5150031 L 21.8427985,53.5148298 L 21.8426776,53.5146818 L 21.8420378,53.5147156 L 21.8417961,53.5146776 L 21.8418743,53.5141492 L 21.8419454,53.5140308 L 21.8409999,53.5137603 L 21.840377411947944,53.5136264306 L 21.8400832534,53.5136264306 L 21.8400832534,53.518393078 L 21.841970806057827,53.518393078 z\" /></g></g></svg>"
      ],
      "text/plain": [
       "<shapely.geometry.multipolygon.MultiPolygon at 0x1f4f921d860>"
      ]
     },
     "execution_count": 16,
     "metadata": {},
     "output_type": "execute_result"
    }
   ],
   "source": [
    "area_polygon = landuse_bbox_gdf.unary_union\n",
    "area_polygon"
   ]
  },
  {
   "cell_type": "markdown",
   "metadata": {},
   "source": [
    "### If area_polygon is MultiPolygon then pick single Polygon of biggest area for further processing"
   ]
  },
  {
   "cell_type": "code",
   "execution_count": 17,
   "metadata": {},
   "outputs": [],
   "source": [
    "if isinstance(area_polygon, MultiPolygon):\n",
    "    biggest_poly = 0\n",
    "    multipoly = area_polygon\n",
    "    for poly in list(multipoly):\n",
    "        if(poly.area > biggest_poly):\n",
    "            new_area_polygon = poly\n",
    "            biggest_poly = poly.area\n",
    "    area_polygon = new_area_polygon"
   ]
  },
  {
   "cell_type": "code",
   "execution_count": 18,
   "metadata": {},
   "outputs": [
    {
     "data": {
      "text/plain": [
       "5.219547019170943e-05"
      ]
     },
     "execution_count": 18,
     "metadata": {},
     "output_type": "execute_result"
    }
   ],
   "source": [
    "area_polygon.area"
   ]
  },
  {
   "cell_type": "code",
   "execution_count": 19,
   "metadata": {},
   "outputs": [
    {
     "data": {
      "image/svg+xml": [
       "<svg xmlns=\"http://www.w3.org/2000/svg\" xmlns:xlink=\"http://www.w3.org/1999/xlink\" width=\"100.0\" height=\"100.0\" viewBox=\"21.842110607583997 53.513067938184 0.015079295232002465 0.005883632231999059\" preserveAspectRatio=\"xMinYMin meet\"><g transform=\"matrix(1,0,0,-1,0,107.0320195086)\"><path fill-rule=\"evenodd\" fill=\"#66cc99\" stroke=\"#555555\" stroke-width=\"0.00030158590464004933\" opacity=\"0.6\" d=\"M 21.847782275922707,53.5136264306 L 21.8453219,53.5153409 L 21.8427855,53.5178314 L 21.8426691,53.5182465 L 21.84275386161735,53.518393078 L 21.8566314104,53.518393078 L 21.8566314104,53.5136264306 L 21.847782275922707,53.5136264306 z\" /></g></svg>"
      ],
      "text/plain": [
       "<shapely.geometry.polygon.Polygon at 0x1f4f9227710>"
      ]
     },
     "execution_count": 19,
     "metadata": {},
     "output_type": "execute_result"
    }
   ],
   "source": [
    "area_convexhull_polygon = area_polygon.convex_hull\n",
    "area_convexhull_polygon"
   ]
  },
  {
   "cell_type": "code",
   "execution_count": 20,
   "metadata": {},
   "outputs": [
    {
     "data": {
      "text/plain": [
       "5.219547019170943e-05"
      ]
     },
     "execution_count": 20,
     "metadata": {},
     "output_type": "execute_result"
    }
   ],
   "source": [
    "area_polygon.area"
   ]
  },
  {
   "cell_type": "code",
   "execution_count": 21,
   "metadata": {},
   "outputs": [
    {
     "name": "stdout",
     "output_type": "stream",
     "text": [
      "Intersected poly is type of:\n",
      "Polygon\n"
     ]
    }
   ],
   "source": [
    "print(\"Intersected poly is type of:\\n{0}\".format(area_polygon.type))"
   ]
  },
  {
   "cell_type": "markdown",
   "metadata": {},
   "source": [
    "### Get largest rectangle area inside of convex Polygon"
   ]
  },
  {
   "cell_type": "markdown",
   "metadata": {},
   "source": [
    "##### Monkey Patch of Solver picking and return statement of get_maximal_rectangle function from maxrect module"
   ]
  },
  {
   "cell_type": "code",
   "execution_count": 22,
   "metadata": {},
   "outputs": [],
   "source": [
    "def modified_get_maximal_rectangle(coordinates):\n",
    "    \n",
    "    \"\"\"\n",
    "    Find the largest, inscribed, axis-aligned rectangle.\n",
    "    :param coordinates:\n",
    "        A list of of [x, y] pairs describing a closed, convex polygon.\n",
    "    \"\"\"\n",
    "\n",
    "    coordinates = np.array(coordinates)\n",
    "    x_range = np.max(coordinates, axis=0)[0]-np.min(coordinates, axis=0)[0]\n",
    "    y_range = np.max(coordinates, axis=0)[1]-np.min(coordinates, axis=0)[1]\n",
    "\n",
    "    scale = np.array([x_range, y_range])\n",
    "    sc_coordinates = coordinates/scale\n",
    "\n",
    "    poly = Polygon(sc_coordinates)\n",
    "    inside_pt = (poly.representative_point().x,\n",
    "                 poly.representative_point().y)\n",
    "\n",
    "    A1, A2, B = maxrect.pts_to_leq(sc_coordinates)\n",
    "\n",
    "    bl = cvxpy.Variable(2)\n",
    "    tr = cvxpy.Variable(2)\n",
    "    br = cvxpy.Variable(2)\n",
    "    tl = cvxpy.Variable(2)\n",
    "    obj = cvxpy.Maximize(cvxpy.log(tr[0] - bl[0]) + cvxpy.log(tr[1] - bl[1]))\n",
    "    constraints = [bl[0] == tl[0],\n",
    "                   br[0] == tr[0],\n",
    "                   tl[1] == tr[1],\n",
    "                   bl[1] == br[1],\n",
    "                   ]\n",
    "\n",
    "    for i in range(len(B)):\n",
    "        if inside_pt[0] * A1[i] + inside_pt[1] * A2[i] <= B[i]:\n",
    "            constraints.append(bl[0] * A1[i] + bl[1] * A2[i] <= B[i])\n",
    "            constraints.append(tr[0] * A1[i] + tr[1] * A2[i] <= B[i])\n",
    "            constraints.append(br[0] * A1[i] + br[1] * A2[i] <= B[i])\n",
    "            constraints.append(tl[0] * A1[i] + tl[1] * A2[i] <= B[i])\n",
    "\n",
    "        else:\n",
    "            constraints.append(bl[0] * A1[i] + bl[1] * A2[i] >= B[i])\n",
    "            constraints.append(tr[0] * A1[i] + tr[1] * A2[i] >= B[i])\n",
    "            constraints.append(br[0] * A1[i] + br[1] * A2[i] >= B[i])\n",
    "            constraints.append(tl[0] * A1[i] + tl[1] * A2[i] >= B[i])\n",
    "\n",
    "    prob = cvxpy.Problem(obj, constraints)\n",
    "        \n",
    "    try:\n",
    "        solver='ECOS'\n",
    "        prob.solve(solver=solver, verbose=False)\n",
    "    except:\n",
    "        try:\n",
    "            solver='ECOS_BB'\n",
    "            prob.solve(solver=solver, verbose=False)\n",
    "        except:\n",
    "            try:\n",
    "                solver='CVXOPT'\n",
    "                prob.solve(solver=solver, verbose=False)\n",
    "            except:\n",
    "                try:\n",
    "                    solver='OSQP'\n",
    "                    prob.solve(solver=solver, verbose=False)\n",
    "                except:\n",
    "                    try:\n",
    "                        solver='GLPK'\n",
    "                        prob.solve(solver=solver, verbose=False)   \n",
    "                    except:\n",
    "                        try:\n",
    "                            solver='GLPK_MI'\n",
    "                            prob.solve(solver=solver, verbose=False)  \n",
    "                        except:\n",
    "                            solver='SCS'\n",
    "                            prob.solve(solver=solver, verbose=False)  \n",
    "    \n",
    "    print('Used solver: {0}'.format(solver))\n",
    "    bottom_left = np.array(bl.value).T * scale\n",
    "    top_right = np.array(tr.value).T * scale\n",
    "\n",
    "    return list(bottom_left), list(top_right)\n",
    "\n",
    "#monkey patch function\n",
    "maxrect.get_maximal_rectangle = modified_get_maximal_rectangle"
   ]
  },
  {
   "cell_type": "code",
   "execution_count": 23,
   "metadata": {},
   "outputs": [],
   "source": [
    "def fit_plot_ranctangle_polygon(polygon):\n",
    "    coordinates = list(polygon.exterior.coords)\n",
    "    ll, ur = maxrect.get_maximal_rectangle(coordinates)\n",
    "    calculated_coordinates = maxrect.rect2poly(ll,ur)\n",
    "    \n",
    "    poly_coordinates = Polygon(coordinates)\n",
    "    poly_calculated = Polygon(calculated_coordinates)\n",
    "    \n",
    "    x,y = poly_coordinates.exterior.xy\n",
    "    a,b = poly_calculated.exterior.xy\n",
    "    \n",
    "    plt.plot(x,y,color=\"red\")\n",
    "    plt.plot(a,b,color=\"blue\")\n",
    "    plt.plot()\n",
    "    \n",
    "    return poly_calculated"
   ]
  },
  {
   "cell_type": "code",
   "execution_count": 24,
   "metadata": {},
   "outputs": [],
   "source": [
    "#coordinates = list(area_polygon.exterior.coords)\n",
    "#ll, ur = maxrect.get_maximal_rectangle(coordinates)\n",
    "#calculated_coordinates = maxrect.rect2poly(ll,ur)"
   ]
  },
  {
   "cell_type": "code",
   "execution_count": 25,
   "metadata": {},
   "outputs": [],
   "source": [
    "#poly_coordinates = Polygon(coordinates)\n",
    "#poly_calculated = Polygon(calculated_coordinates)\n",
    "\n",
    "#x,y = poly_coordinates.exterior.xy\n",
    "#a,b = poly_calculated.exterior.xy"
   ]
  },
  {
   "cell_type": "code",
   "execution_count": 26,
   "metadata": {},
   "outputs": [],
   "source": [
    "#plt.plot(x,y,color=\"red\")\n",
    "#plt.plot(a,b,color=\"blue\")\n",
    "#plt.plot()"
   ]
  },
  {
   "cell_type": "code",
   "execution_count": 27,
   "metadata": {},
   "outputs": [
    {
     "name": "stdout",
     "output_type": "stream",
     "text": [
      "Used solver: ECOS\n"
     ]
    },
    {
     "data": {
      "image/png": "[encoded data removed]",
      "text/plain": [
       "<Figure size 432x288 with 1 Axes>"
      ]
     },
     "metadata": {
      "needs_background": "light"
     },
     "output_type": "display_data"
    }
   ],
   "source": [
    "poly_calculated = fit_plot_ranctangle_polygon(area_polygon)"
   ]
  },
  {
   "cell_type": "code",
   "execution_count": 28,
   "metadata": {},
   "outputs": [
    {
     "name": "stdout",
     "output_type": "stream",
     "text": [
      "Used solver: ECOS\n"
     ]
    },
    {
     "data": {
      "image/png": "[encoded data removed]",
      "text/plain": [
       "<Figure size 432x288 with 1 Axes>"
      ]
     },
     "metadata": {
      "needs_background": "light"
     },
     "output_type": "display_data"
    }
   ],
   "source": [
    "convexhull_poly_calculated = fit_plot_ranctangle_polygon(area_convexhull_polygon)"
   ]
  },
  {
   "cell_type": "code",
   "execution_count": 29,
   "metadata": {},
   "outputs": [
    {
     "data": {
      "text/plain": [
       "[(21.847782144056378, 53.51362641490376),\n",
       " (21.847782144056378, 53.51839295800414),\n",
       " (21.85663135249128, 53.51839295800414),\n",
       " (21.85663135249128, 53.51362641490376),\n",
       " (21.847782144056378, 53.51362641490376)]"
      ]
     },
     "execution_count": 29,
     "metadata": {},
     "output_type": "execute_result"
    }
   ],
   "source": [
    "list(convexhull_poly_calculated.exterior.coords)"
   ]
  },
  {
   "cell_type": "code",
   "execution_count": 30,
   "metadata": {},
   "outputs": [
    {
     "data": {
      "text/plain": [
       "shapely.geometry.polygon.Polygon"
      ]
     },
     "execution_count": 30,
     "metadata": {},
     "output_type": "execute_result"
    }
   ],
   "source": [
    "type(convexhull_poly_calculated)"
   ]
  },
  {
   "cell_type": "code",
   "execution_count": null,
   "metadata": {},
   "outputs": [],
   "source": [
    "ox.get_polygons_coordinates(convexhull_poly_calculated)"
   ]
  },
  {
   "cell_type": "code",
   "execution_count": null,
   "metadata": {},
   "outputs": [],
   "source": [
    "convexhull_poly_calculated_utm, crs_proj = ox.project_geometry(convexhull_poly_calculated)"
   ]
  },
  {
   "cell_type": "code",
   "execution_count": null,
   "metadata": {},
   "outputs": [],
   "source": [
    "crs_proj"
   ]
  },
  {
   "cell_type": "code",
   "execution_count": null,
   "metadata": {},
   "outputs": [],
   "source": [
    "default_crs = '+proj=longlat +ellps=WGS84 +datum=WGS84 +no_defs'"
   ]
  },
  {
   "cell_type": "code",
   "execution_count": null,
   "metadata": {},
   "outputs": [],
   "source": [
    "gdf = gpd.GeoDataFrame()\n",
    "gdf"
   ]
  },
  {
   "cell_type": "code",
   "execution_count": null,
   "metadata": {},
   "outputs": [],
   "source": [
    "gdf.crs = default_crs\n",
    "gdf"
   ]
  },
  {
   "cell_type": "code",
   "execution_count": null,
   "metadata": {},
   "outputs": [],
   "source": [
    "gdf.gdf_name = 'geometry to project'\n",
    "gdf"
   ]
  },
  {
   "cell_type": "code",
   "execution_count": null,
   "metadata": {},
   "outputs": [],
   "source": [
    "gdf['geometry'] = None\n",
    "gdf"
   ]
  },
  {
   "cell_type": "code",
   "execution_count": null,
   "metadata": {},
   "outputs": [],
   "source": [
    "gdf.loc[0, 'geometry'] = convexhull_poly_calculated\n",
    "gdf"
   ]
  },
  {
   "cell_type": "code",
   "execution_count": null,
   "metadata": {},
   "outputs": [],
   "source": [
    "gdf.crs"
   ]
  },
  {
   "cell_type": "code",
   "execution_count": null,
   "metadata": {},
   "outputs": [],
   "source": []
  },
  {
   "cell_type": "markdown",
   "metadata": {},
   "source": [
    "# TODO NEXT\n",
    "## Algorithm for fitting PV rectangles into convexhull_poly_calculated"
   ]
  },
  {
   "cell_type": "markdown",
   "metadata": {},
   "source": [
    "#### Step 1 -> jakie projection, funkcja żeby znaleźć relację między lat,log a metrami"
   ]
  },
  {
   "cell_type": "markdown",
   "metadata": {},
   "source": [
    "#### Step 2 -> funkcja -> podaje wysokość i szerokość kafelka PV i dostaję kafelki wrysowane w prostokąt za pomocą PLT"
   ]
  },
  {
   "cell_type": "markdown",
   "metadata": {},
   "source": [
    "###### 2.1_update -> przejdź z głównym prostokątem na UTM, wylicz szerokośc i wysokośc z .boundries i różnicy xmax-xmin i y analogicznie "
   ]
  },
  {
   "cell_type": "markdown",
   "metadata": {},
   "source": [
    "###### 2.2 -> dwie zmienne n i m, gdzie n to int(szerokość_prostokąta / szerokość_kafelka) , a m to int(wysokość_kafelka / wysokość_kafelka). Daje mi to ile kafelków wejdzie w szerokości i ile w wysokości"
   ]
  },
  {
   "cell_type": "markdown",
   "metadata": {},
   "source": [
    "###### 2.4 -> weź min y i w pętli iteruj dodając wysokość kafelka m razy, analogicznie min x i w pętli dodawaj szerokość kafelka n razy "
   ]
  },
  {
   "cell_type": "markdown",
   "metadata": {},
   "source": [
    "###### 2.5 -> zrobić z każdej pary prostokąt i wrzucać je w pętli to tablicy kafelków"
   ]
  },
  {
   "cell_type": "markdown",
   "metadata": {},
   "source": [
    "###### 2.6 -> plotting kafelków "
   ]
  },
  {
   "cell_type": "markdown",
   "metadata": {},
   "source": [
    "###### 2.7 -> Przejście na WGS84 lat/long"
   ]
  },
  {
   "cell_type": "markdown",
   "metadata": {},
   "source": [
    "### Step 1"
   ]
  },
  {
   "cell_type": "code",
   "execution_count": 34,
   "metadata": {},
   "outputs": [],
   "source": [
    "# Project WGS84 CRS geometry to UTM CRS geometry\n",
    "utm_proj_convexhull_poly_calculated, crs_proj = ox.project_geometry(convexhull_poly_calculated)"
   ]
  },
  {
   "cell_type": "code",
   "execution_count": 35,
   "metadata": {},
   "outputs": [
    {
     "data": {
      "image/svg+xml": [
       "<svg xmlns=\"http://www.w3.org/2000/svg\" xmlns:xlink=\"http://www.w3.org/1999/xlink\" width=\"300\" height=\"300\" viewBox=\"556186.8530995625 5929720.386987648 640.5393327001948 584.7324146749452\" preserveAspectRatio=\"xMinYMin meet\"><g transform=\"matrix(1,0,0,-1,0,11860025.506389972)\"><path fill-rule=\"evenodd\" fill=\"#66cc99\" stroke=\"#555555\" stroke-width=\"4.270262218001299\" opacity=\"0.6\" d=\"M 556216.8857300224,5929744.110666637 L 556210.5767785513,5930274.378503367 L 556797.2939430228,5930281.395723334 L 556803.6687532738,5929751.128242531 L 556216.8857300224,5929744.110666637 z\" /></g></svg>"
      ],
      "text/plain": [
       "<shapely.geometry.polygon.Polygon at 0x1f4f8b9c400>"
      ]
     },
     "execution_count": 35,
     "metadata": {},
     "output_type": "execute_result"
    }
   ],
   "source": [
    "utm_proj_convexhull_poly_calculated"
   ]
  },
  {
   "cell_type": "code",
   "execution_count": 36,
   "metadata": {},
   "outputs": [
    {
     "data": {
      "text/plain": [
       "'+proj=utm +zone=34 +ellps=WGS84 +datum=WGS84 +units=m +no_defs'"
      ]
     },
     "execution_count": 36,
     "metadata": {},
     "output_type": "execute_result"
    }
   ],
   "source": [
    "crs_proj"
   ]
  },
  {
   "cell_type": "markdown",
   "metadata": {},
   "source": [
    "##### Przed"
   ]
  },
  {
   "cell_type": "code",
   "execution_count": 37,
   "metadata": {},
   "outputs": [
    {
     "data": {
      "text/plain": [
       "(21.847782144056378, 53.51362641490376, 21.85663135249128, 53.51839295800414)"
      ]
     },
     "execution_count": 37,
     "metadata": {},
     "output_type": "execute_result"
    }
   ],
   "source": [
    "convexhull_poly_calculated.bounds"
   ]
  },
  {
   "cell_type": "code",
   "execution_count": 38,
   "metadata": {},
   "outputs": [
    {
     "data": {
      "text/plain": [
       "['53.513626 21.847782 53.518393 21.847782 53.518393 21.856631 53.513626 21.856631 53.513626 21.847782']"
      ]
     },
     "execution_count": 38,
     "metadata": {},
     "output_type": "execute_result"
    }
   ],
   "source": [
    "ox.get_polygons_coordinates(convexhull_poly_calculated)"
   ]
  },
  {
   "cell_type": "markdown",
   "metadata": {},
   "source": [
    "##### Po"
   ]
  },
  {
   "cell_type": "code",
   "execution_count": 39,
   "metadata": {},
   "outputs": [
    {
     "data": {
      "text/plain": [
       "(556210.5767785513, 5929744.110666637, 556803.6687532738, 5930281.395723334)"
      ]
     },
     "execution_count": 39,
     "metadata": {},
     "output_type": "execute_result"
    }
   ],
   "source": [
    "utm_proj_convexhull_poly_calculated.bounds"
   ]
  },
  {
   "cell_type": "code",
   "execution_count": 40,
   "metadata": {},
   "outputs": [
    {
     "data": {
      "text/plain": [
       "['5929744.110667 556216.885730 5930274.378503 556210.576779 5930281.395723 556797.293943 5929751.128243 556803.668753 5929744.110667 556216.885730']"
      ]
     },
     "execution_count": 40,
     "metadata": {},
     "output_type": "execute_result"
    }
   ],
   "source": [
    "ox.get_polygons_coordinates(utm_proj_convexhull_poly_calculated)"
   ]
  },
  {
   "cell_type": "code",
   "execution_count": null,
   "metadata": {},
   "outputs": [],
   "source": [
    "x,y = utm_proj_convexhull_poly_calculated.exterior.xy\n",
    "#a,b = utm_proj_convexhull_poly_calculated.exterior.xy\n",
    "    \n",
    "plt.plot(x,y,color=\"red\")\n",
    "#plt.plot(a,b,color=\"blue\")\n",
    "plt.plot()"
   ]
  },
  {
   "cell_type": "code",
   "execution_count": null,
   "metadata": {},
   "outputs": [],
   "source": [
    "x_range = max(x)-min(x)\n",
    "y_range = max(y)-min(y)"
   ]
  },
  {
   "cell_type": "code",
   "execution_count": null,
   "metadata": {},
   "outputs": [],
   "source": [
    "#zakładam szerokość kafelka (a) i wysokość kafelka (b) [m]\n",
    "a = 2\n",
    "b = 2"
   ]
  },
  {
   "cell_type": "code",
   "execution_count": null,
   "metadata": {},
   "outputs": [],
   "source": [
    "n = int(x_range / a)\n",
    "m = int(y_range / b)"
   ]
  },
  {
   "cell_type": "code",
   "execution_count": null,
   "metadata": {},
   "outputs": [],
   "source": [
    "x_coords = []\n",
    "y_coords = []\n",
    "\n",
    "for z in range (n+1):\n",
    "    x_coords.append(min(x) + a*z)\n",
    "\n",
    "for z in range (m+1):\n",
    "    y_coords.append(min(y) + b*z)"
   ]
  },
  {
   "cell_type": "code",
   "execution_count": null,
   "metadata": {},
   "outputs": [],
   "source": []
  },
  {
   "cell_type": "code",
   "execution_count": null,
   "metadata": {},
   "outputs": [],
   "source": [
    "n"
   ]
  },
  {
   "cell_type": "code",
   "execution_count": null,
   "metadata": {},
   "outputs": [],
   "source": [
    "m"
   ]
  },
  {
   "cell_type": "markdown",
   "metadata": {},
   "source": [
    "# test"
   ]
  },
  {
   "cell_type": "code",
   "execution_count": 31,
   "metadata": {},
   "outputs": [],
   "source": [
    "#quadrat_cut_geometry(geometry, quadrat_width, min_num=3, buffer_amount=1e-9):"
   ]
  },
  {
   "cell_type": "code",
   "execution_count": 41,
   "metadata": {},
   "outputs": [],
   "source": [
    "import math"
   ]
  },
  {
   "cell_type": "code",
   "execution_count": 68,
   "metadata": {},
   "outputs": [],
   "source": [
    "geometry = utm_proj_convexhull_poly_calculated\n",
    "quadrat_width = 200\n",
    "min_num=3\n",
    "buffer_amount=1e-9"
   ]
  },
  {
   "cell_type": "code",
   "execution_count": 69,
   "metadata": {},
   "outputs": [],
   "source": [
    "# create n evenly spaced points between the min and max x and y bounds\n",
    "west, south, east, north = geometry.bounds\n",
    "x_num = math.ceil((east-west) / quadrat_width) + 1\n",
    "y_num = math.ceil((north-south) / quadrat_width) + 1\n",
    "x_points = np.linspace(west, east, num=max(x_num, min_num))\n",
    "y_points = np.linspace(south, north, num=max(y_num, min_num))"
   ]
  },
  {
   "cell_type": "code",
   "execution_count": 70,
   "metadata": {},
   "outputs": [
    {
     "data": {
      "text/plain": [
       "(556210.5767785513, 5929744.110666637, 556803.6687532738, 5930281.395723334)"
      ]
     },
     "execution_count": 70,
     "metadata": {},
     "output_type": "execute_result"
    }
   ],
   "source": [
    "west, south, east, north"
   ]
  },
  {
   "cell_type": "code",
   "execution_count": 71,
   "metadata": {},
   "outputs": [
    {
     "data": {
      "text/plain": [
       "4"
      ]
     },
     "execution_count": 71,
     "metadata": {},
     "output_type": "execute_result"
    }
   ],
   "source": [
    "x_num"
   ]
  },
  {
   "cell_type": "code",
   "execution_count": 72,
   "metadata": {},
   "outputs": [
    {
     "data": {
      "text/plain": [
       "4"
      ]
     },
     "execution_count": 72,
     "metadata": {},
     "output_type": "execute_result"
    }
   ],
   "source": [
    "y_num"
   ]
  },
  {
   "cell_type": "code",
   "execution_count": 73,
   "metadata": {},
   "outputs": [
    {
     "data": {
      "text/plain": [
       "array([556210.57677855, 556408.27410346, 556605.97142837, 556803.66875327])"
      ]
     },
     "execution_count": 73,
     "metadata": {},
     "output_type": "execute_result"
    }
   ],
   "source": [
    "x_points"
   ]
  },
  {
   "cell_type": "code",
   "execution_count": 74,
   "metadata": {},
   "outputs": [],
   "source": [
    "# create a quadrat grid of lines at each of the evenly spaced points\n",
    "vertical_lines = [LineString([(x, y_points[0]), (x, y_points[-1])]) for x in x_points]\n",
    "horizont_lines = [LineString([(x_points[0], y), (x_points[-1], y)]) for y in y_points]\n",
    "lines = vertical_lines + horizont_lines"
   ]
  },
  {
   "cell_type": "code",
   "execution_count": 75,
   "metadata": {},
   "outputs": [
    {
     "data": {
      "text/plain": [
       "[<shapely.geometry.linestring.LineString at 0x1f4a3131b70>,\n",
       " <shapely.geometry.linestring.LineString at 0x1f4a31317f0>,\n",
       " <shapely.geometry.linestring.LineString at 0x1f4a3131a90>,\n",
       " <shapely.geometry.linestring.LineString at 0x1f4a3131f60>]"
      ]
     },
     "execution_count": 75,
     "metadata": {},
     "output_type": "execute_result"
    }
   ],
   "source": [
    "vertical_lines"
   ]
  },
  {
   "cell_type": "code",
   "execution_count": 76,
   "metadata": {},
   "outputs": [
    {
     "data": {
      "text/plain": [
       "[<shapely.geometry.linestring.LineString at 0x1f4a31316d8>,\n",
       " <shapely.geometry.linestring.LineString at 0x1f4a3131be0>,\n",
       " <shapely.geometry.linestring.LineString at 0x1f4a3131cc0>,\n",
       " <shapely.geometry.linestring.LineString at 0x1f4a3131c88>]"
      ]
     },
     "execution_count": 76,
     "metadata": {},
     "output_type": "execute_result"
    }
   ],
   "source": [
    "horizont_lines"
   ]
  },
  {
   "cell_type": "code",
   "execution_count": 77,
   "metadata": {},
   "outputs": [
    {
     "data": {
      "text/plain": [
       "[<shapely.geometry.linestring.LineString at 0x1f4a3131b70>,\n",
       " <shapely.geometry.linestring.LineString at 0x1f4a31317f0>,\n",
       " <shapely.geometry.linestring.LineString at 0x1f4a3131a90>,\n",
       " <shapely.geometry.linestring.LineString at 0x1f4a3131f60>,\n",
       " <shapely.geometry.linestring.LineString at 0x1f4a31316d8>,\n",
       " <shapely.geometry.linestring.LineString at 0x1f4a3131be0>,\n",
       " <shapely.geometry.linestring.LineString at 0x1f4a3131cc0>,\n",
       " <shapely.geometry.linestring.LineString at 0x1f4a3131c88>]"
      ]
     },
     "execution_count": 77,
     "metadata": {},
     "output_type": "execute_result"
    }
   ],
   "source": [
    "lines"
   ]
  },
  {
   "cell_type": "code",
   "execution_count": 78,
   "metadata": {},
   "outputs": [],
   "source": [
    "# buffer each line to distance of the quadrat width divided by 1 billion,\n",
    "# take their union, then cut geometry into pieces by these quadrats\n",
    "buffer_size = quadrat_width * buffer_amount\n",
    "lines_buffered = [line.buffer(buffer_size) for line in lines]\n",
    "quadrats = unary_union(lines_buffered)\n",
    "multipoly = geometry.difference(quadrats)"
   ]
  },
  {
   "cell_type": "code",
   "execution_count": 79,
   "metadata": {},
   "outputs": [
    {
     "data": {
      "text/plain": [
       "2.0000000000000002e-07"
      ]
     },
     "execution_count": 79,
     "metadata": {},
     "output_type": "execute_result"
    }
   ],
   "source": [
    "buffer_size"
   ]
  },
  {
   "cell_type": "code",
   "execution_count": 80,
   "metadata": {},
   "outputs": [
    {
     "data": {
      "text/plain": [
       "[<shapely.geometry.polygon.Polygon at 0x1f4f8dbad30>,\n",
       " <shapely.geometry.polygon.Polygon at 0x1f4f8d75710>,\n",
       " <shapely.geometry.polygon.Polygon at 0x1f4f8dba080>,\n",
       " <shapely.geometry.polygon.Polygon at 0x1f4a2f30400>,\n",
       " <shapely.geometry.polygon.Polygon at 0x1f4a2f30470>,\n",
       " <shapely.geometry.polygon.Polygon at 0x1f4f8cfd940>,\n",
       " <shapely.geometry.polygon.Polygon at 0x1f4f8cfd358>,\n",
       " <shapely.geometry.polygon.Polygon at 0x1f4f8cfdc18>]"
      ]
     },
     "execution_count": 80,
     "metadata": {},
     "output_type": "execute_result"
    }
   ],
   "source": [
    "lines_buffered"
   ]
  },
  {
   "cell_type": "code",
   "execution_count": 86,
   "metadata": {},
   "outputs": [
    {
     "data": {
      "image/svg+xml": [
       "<svg xmlns=\"http://www.w3.org/2000/svg\" xmlns:xlink=\"http://www.w3.org/1999/xlink\" width=\"100.0\" height=\"300\" viewBox=\"556386.782701191 5929722.61926437 42.982804535655305 580.2678612312302\" preserveAspectRatio=\"xMinYMin meet\"><g transform=\"matrix(1,0,0,-1,0,11860025.506389972)\"><polyline fill=\"none\" stroke=\"#66cc99\" stroke-width=\"3.8684524082082015\" points=\"556408.2741034589,5929744.110666637 556408.2741034589,5930281.395723334\" opacity=\"0.8\" /></g></svg>"
      ],
      "text/plain": [
       "<shapely.geometry.linestring.LineString at 0x1f4a31317f0>"
      ]
     },
     "execution_count": 86,
     "metadata": {},
     "output_type": "execute_result"
    }
   ],
   "source": [
    "lines[1]"
   ]
  },
  {
   "cell_type": "code",
   "execution_count": 85,
   "metadata": {},
   "outputs": [
    {
     "data": {
      "image/svg+xml": [
       "<svg xmlns=\"http://www.w3.org/2000/svg\" xmlns:xlink=\"http://www.w3.org/1999/xlink\" width=\"100.0\" height=\"300\" viewBox=\"556386.782700975 5929722.619264153 42.98280496778898 580.2678616652265\" preserveAspectRatio=\"xMinYMin meet\"><g transform=\"matrix(1,0,0,-1,0,11860025.506389972)\"><path fill-rule=\"evenodd\" fill=\"#66cc99\" stroke=\"#555555\" stroke-width=\"3.86845241110151\" opacity=\"0.6\" d=\"M 556408.2741032589,5930281.395723334 L 556408.2741032598,5930281.395723353 L 556408.2741032627,5930281.395723373 L 556408.2741032675,5930281.395723391 L 556408.2741032741,5930281.39572341 L 556408.2741032825,5930281.395723428 L 556408.2741032926,5930281.395723444 L 556408.2741033043,5930281.39572346 L 556408.2741033174,5930281.395723475 L 556408.274103332,5930281.395723488 L 556408.2741033478,5930281.3957235 L 556408.2741033646,5930281.39572351 L 556408.2741033824,5930281.395723518 L 556408.2741034008,5930281.395723525 L 556408.2741034199,5930281.39572353 L 556408.2741034393,5930281.395723533 L 556408.2741034589,5930281.395723534 L 556408.2741034784,5930281.395723533 L 556408.2741034979,5930281.39572353 L 556408.274103517,5930281.395723525 L 556408.2741035353,5930281.395723518 L 556408.2741035532,5930281.39572351 L 556408.2741035699,5930281.3957235 L 556408.2741035857,5930281.395723488 L 556408.2741036003,5930281.395723475 L 556408.2741036135,5930281.39572346 L 556408.2741036251,5930281.395723444 L 556408.2741036352,5930281.395723428 L 556408.2741036436,5930281.39572341 L 556408.2741036502,5930281.395723391 L 556408.274103655,5930281.395723373 L 556408.2741036579,5930281.395723353 L 556408.2741036589,5930281.395723334 L 556408.2741036589,5929744.110666637 L 556408.2741036579,5929744.110666618 L 556408.274103655,5929744.110666598 L 556408.2741036502,5929744.11066658 L 556408.2741036436,5929744.110666561 L 556408.2741036352,5929744.110666543 L 556408.2741036251,5929744.1106665265 L 556408.2741036135,5929744.110666511 L 556408.2741036003,5929744.110666496 L 556408.2741035857,5929744.110666483 L 556408.2741035699,5929744.110666471 L 556408.2741035532,5929744.110666461 L 556408.2741035353,5929744.110666453 L 556408.274103517,5929744.110666445 L 556408.2741034979,5929744.110666441 L 556408.2741034784,5929744.110666438 L 556408.2741034589,5929744.110666437 L 556408.2741034393,5929744.110666438 L 556408.2741034199,5929744.110666441 L 556408.2741034008,5929744.110666445 L 556408.2741033824,5929744.110666453 L 556408.2741033646,5929744.110666461 L 556408.2741033478,5929744.110666471 L 556408.274103332,5929744.110666483 L 556408.2741033174,5929744.110666496 L 556408.2741033043,5929744.110666511 L 556408.2741032926,5929744.1106665265 L 556408.2741032825,5929744.110666543 L 556408.2741032741,5929744.110666561 L 556408.2741032675,5929744.11066658 L 556408.2741032627,5929744.110666598 L 556408.2741032598,5929744.110666618 L 556408.2741032589,5929744.110666637 L 556408.2741032589,5930281.395723334 z\" /></g></svg>"
      ],
      "text/plain": [
       "<shapely.geometry.polygon.Polygon at 0x1f4f8d75710>"
      ]
     },
     "execution_count": 85,
     "metadata": {},
     "output_type": "execute_result"
    }
   ],
   "source": [
    "lines_buffered[1]"
   ]
  },
  {
   "cell_type": "code",
   "execution_count": 82,
   "metadata": {},
   "outputs": [
    {
     "data": {
      "image/svg+xml": [
       "<svg xmlns=\"http://www.w3.org/2000/svg\" xmlns:xlink=\"http://www.w3.org/1999/xlink\" width=\"300\" height=\"300\" viewBox=\"556186.8530993464 5929720.386987432 640.5393331323285 584.7324151070789\" preserveAspectRatio=\"xMinYMin meet\"><g transform=\"matrix(1,0,0,-1,0,11860025.506389972)\"><path fill-rule=\"evenodd\" fill=\"#66cc99\" stroke=\"#555555\" stroke-width=\"4.27026222088219\" opacity=\"0.6\" d=\"M 556803.6687534738,5929744.110666637 L 556803.6687534729,5929744.110666618 L 556803.66875347,5929744.110666598 L 556803.6687534652,5929744.11066658 L 556803.6687534585,5929744.110666561 L 556803.6687534502,5929744.110666543 L 556803.66875344,5929744.1106665265 L 556803.6687534284,5929744.110666511 L 556803.6687534152,5929744.110666496 L 556803.6687534007,5929744.110666483 L 556803.6687533848,5929744.110666471 L 556803.6687533681,5929744.110666461 L 556803.6687533503,5929744.110666453 L 556803.6687533319,5929744.110666445 L 556803.6687533128,5929744.110666441 L 556803.6687532933,5929744.110666438 L 556803.6687532738,5929744.110666437 L 556605.9714283663,5929744.110666437 L 556408.2741034589,5929744.110666437 L 556210.5767785513,5929744.110666437 L 556210.5767785318,5929744.110666438 L 556210.5767785123,5929744.110666441 L 556210.5767784932,5929744.110666445 L 556210.5767784748,5929744.110666453 L 556210.576778457,5929744.110666461 L 556210.5767784403,5929744.110666471 L 556210.5767784244,5929744.110666483 L 556210.5767784099,5929744.110666496 L 556210.5767783967,5929744.110666511 L 556210.5767783851,5929744.1106665265 L 556210.576778375,5929744.110666543 L 556210.5767783666,5929744.110666561 L 556210.57677836,5929744.11066658 L 556210.5767783552,5929744.110666598 L 556210.5767783523,5929744.110666618 L 556210.5767783513,5929744.110666637 L 556210.5767783513,5929923.205685536 L 556210.5767783513,5930102.3007044345 L 556210.5767783513,5930281.395723334 L 556210.5767783523,5930281.395723353 L 556210.5767783552,5930281.395723373 L 556210.57677836,5930281.395723391 L 556210.5767783666,5930281.39572341 L 556210.576778375,5930281.395723428 L 556210.5767783851,5930281.395723444 L 556210.5767783967,5930281.39572346 L 556210.5767784099,5930281.395723475 L 556210.5767784244,5930281.395723488 L 556210.5767784403,5930281.3957235 L 556210.576778457,5930281.39572351 L 556210.5767784748,5930281.395723518 L 556210.5767784932,5930281.395723525 L 556210.5767785123,5930281.39572353 L 556210.5767785318,5930281.395723533 L 556210.5767785513,5930281.395723534 L 556408.2741034589,5930281.395723534 L 556605.9714283663,5930281.395723534 L 556803.6687532738,5930281.395723534 L 556803.6687532933,5930281.395723533 L 556803.6687533128,5930281.39572353 L 556803.6687533319,5930281.395723525 L 556803.6687533503,5930281.395723518 L 556803.6687533681,5930281.39572351 L 556803.6687533848,5930281.3957235 L 556803.6687534007,5930281.395723488 L 556803.6687534152,5930281.395723475 L 556803.6687534284,5930281.39572346 L 556803.66875344,5930281.395723444 L 556803.6687534502,5930281.395723428 L 556803.6687534585,5930281.39572341 L 556803.6687534652,5930281.395723391 L 556803.66875347,5930281.395723373 L 556803.6687534729,5930281.395723353 L 556803.6687534738,5930281.395723334 L 556803.6687534738,5930102.3007044345 L 556803.6687534738,5929923.205685536 L 556803.6687534738,5929744.110666637 z M 556210.5767787513,5930281.395723133 L 556210.5767787513,5930102.300704635 L 556408.2741032589,5930102.300704635 L 556408.2741032589,5930281.395723133 L 556210.5767787513,5930281.395723133 z M 556210.5767787513,5930102.300704234 L 556210.5767787513,5929923.205685737 L 556408.2741032589,5929923.205685737 L 556408.2741032589,5930102.300704234 L 556210.5767787513,5930102.300704234 z M 556408.2741036589,5930281.395723133 L 556408.2741036589,5930102.300704635 L 556605.9714281663,5930102.300704635 L 556605.9714281663,5930281.395723133 L 556408.2741036589,5930281.395723133 z M 556408.2741036589,5930102.300704234 L 556408.2741036589,5929923.205685737 L 556605.9714281663,5929923.205685737 L 556605.9714281663,5930102.300704234 L 556408.2741036589,5930102.300704234 z M 556605.9714285663,5929923.205685737 L 556803.6687530738,5929923.205685737 L 556803.6687530738,5930102.300704234 L 556605.9714285663,5930102.300704234 L 556605.9714285663,5929923.205685737 z M 556803.6687530738,5929923.205685336 L 556605.9714285663,5929923.205685336 L 556605.9714285663,5929744.110666838 L 556803.6687530738,5929744.110666838 L 556803.6687530738,5929923.205685336 z M 556605.9714281663,5929923.205685336 L 556408.2741036589,5929923.205685336 L 556408.2741036589,5929744.110666838 L 556605.9714281663,5929744.110666838 L 556605.9714281663,5929923.205685336 z M 556210.5767787513,5929744.110666838 L 556408.2741032589,5929744.110666838 L 556408.2741032589,5929923.205685336 L 556210.5767787513,5929923.205685336 L 556210.5767787513,5929744.110666838 z M 556605.9714285663,5930281.395723133 L 556605.9714285663,5930102.300704635 L 556803.6687530738,5930102.300704635 L 556803.6687530738,5930281.395723133 L 556605.9714285663,5930281.395723133 z\" /></g></svg>"
      ],
      "text/plain": [
       "<shapely.geometry.polygon.Polygon at 0x1f4a3141860>"
      ]
     },
     "execution_count": 82,
     "metadata": {},
     "output_type": "execute_result"
    }
   ],
   "source": [
    "quadrats"
   ]
  },
  {
   "cell_type": "code",
   "execution_count": 83,
   "metadata": {},
   "outputs": [
    {
     "data": {
      "image/svg+xml": [
       "<svg xmlns=\"http://www.w3.org/2000/svg\" xmlns:xlink=\"http://www.w3.org/1999/xlink\" width=\"300\" height=\"300\" viewBox=\"556186.8530997784 5929720.386987865 640.539332268294 584.7324142409489\" preserveAspectRatio=\"xMinYMin meet\"><g transform=\"matrix(1,0,0,-1,0,11860025.506389972)\"><g><path fill-rule=\"evenodd\" fill=\"#66cc99\" stroke=\"#555555\" stroke-width=\"4.27026221512196\" opacity=\"0.6\" d=\"M 556216.8857300201,5929744.110666838 L 556214.7549166798,5929923.205685336 L 556408.2741032589,5929923.205685336 L 556408.2741032589,5929746.399557728 L 556216.8857467653,5929744.110666838 L 556216.8857300201,5929744.110666838 z\" /><path fill-rule=\"evenodd\" fill=\"#66cc99\" stroke=\"#555555\" stroke-width=\"4.27026221512196\" opacity=\"0.6\" d=\"M 556214.754916675,5929923.205685737 L 556212.6241033347,5930102.300704234 L 556408.2741032589,5930102.300704234 L 556408.2741032589,5929923.205685737 L 556214.754916675,5929923.205685737 z\" /><path fill-rule=\"evenodd\" fill=\"#66cc99\" stroke=\"#555555\" stroke-width=\"4.27026221512196\" opacity=\"0.6\" d=\"M 556212.62410333,5930102.300704635 L 556210.5767787513,5930274.378486557 L 556210.5767787513,5930274.37850337 L 556408.2741032589,5930276.7429912295 L 556408.2741032589,5930102.300704635 L 556212.62410333,5930102.300704635 z\" /><path fill-rule=\"evenodd\" fill=\"#66cc99\" stroke=\"#555555\" stroke-width=\"4.27026221512196\" opacity=\"0.6\" d=\"M 556408.2741036589,5930276.742991235 L 556605.9714281663,5930279.107479095 L 556605.9714281663,5930102.300704635 L 556408.2741036589,5930102.300704635 L 556408.2741036589,5930276.742991235 z\" /><path fill-rule=\"evenodd\" fill=\"#66cc99\" stroke=\"#555555\" stroke-width=\"4.27026221512196\" opacity=\"0.6\" d=\"M 556605.9714285663,5930279.1074791 L 556797.293926281,5930281.395723133 L 556797.2939430253,5930281.395723133 L 556799.447001248,5930102.300704635 L 556605.9714285663,5930102.300704635 L 556605.9714285663,5930279.1074791 z\" /><path fill-rule=\"evenodd\" fill=\"#66cc99\" stroke=\"#555555\" stroke-width=\"4.27026221512196\" opacity=\"0.6\" d=\"M 556799.4470012529,5930102.300704234 L 556801.6000594756,5929923.205685737 L 556605.9714285663,5929923.205685737 L 556605.9714285663,5930102.300704234 L 556799.4470012529,5930102.300704234 z\" /><path fill-rule=\"evenodd\" fill=\"#66cc99\" stroke=\"#555555\" stroke-width=\"4.27026221512196\" opacity=\"0.6\" d=\"M 556801.6000594804,5929923.205685336 L 556803.6687530738,5929751.128259167 L 556803.6687530738,5929751.128242528 L 556605.9714285663,5929748.763900133 L 556605.9714285663,5929923.205685336 L 556801.6000594804,5929923.205685336 z\" /><path fill-rule=\"evenodd\" fill=\"#66cc99\" stroke=\"#555555\" stroke-width=\"4.27026221512196\" opacity=\"0.6\" d=\"M 556605.9714281663,5929748.763900128 L 556408.2741036589,5929746.399557733 L 556408.2741036589,5929923.205685336 L 556605.9714281663,5929923.205685336 L 556605.9714281663,5929748.763900128 z\" /><path fill-rule=\"evenodd\" fill=\"#66cc99\" stroke=\"#555555\" stroke-width=\"4.27026221512196\" opacity=\"0.6\" d=\"M 556408.2741036589,5930102.300704234 L 556605.9714281663,5930102.300704234 L 556605.9714281663,5929923.205685737 L 556408.2741036589,5929923.205685737 L 556408.2741036589,5930102.300704234 z\" /></g></g></svg>"
      ],
      "text/plain": [
       "<shapely.geometry.multipolygon.MultiPolygon at 0x1f4f8b885c0>"
      ]
     },
     "execution_count": 83,
     "metadata": {},
     "output_type": "execute_result"
    }
   ],
   "source": [
    "multipoly"
   ]
  },
  {
   "cell_type": "code",
   "execution_count": 87,
   "metadata": {},
   "outputs": [
    {
     "data": {
      "text/plain": [
       "shapely.geometry.multipolygon.MultiPolygon"
      ]
     },
     "execution_count": 87,
     "metadata": {},
     "output_type": "execute_result"
    }
   ],
   "source": [
    "type(multipoly)"
   ]
  },
  {
   "cell_type": "code",
   "execution_count": 88,
   "metadata": {},
   "outputs": [
    {
     "data": {
      "text/plain": [
       "9"
      ]
     },
     "execution_count": 88,
     "metadata": {},
     "output_type": "execute_result"
    }
   ],
   "source": [
    "len(multipoly)"
   ]
  },
  {
   "cell_type": "code",
   "execution_count": 89,
   "metadata": {},
   "outputs": [
    {
     "data": {
      "text/plain": [
       "'MultiPolygon'"
      ]
     },
     "execution_count": 89,
     "metadata": {},
     "output_type": "execute_result"
    }
   ],
   "source": [
    "multipoly.type"
   ]
  },
  {
   "cell_type": "code",
   "execution_count": 90,
   "metadata": {},
   "outputs": [
    {
     "data": {
      "text/plain": [
       "[<shapely.geometry.polygon.Polygon at 0x1f4f8ce90b8>,\n",
       " <shapely.geometry.polygon.Polygon at 0x1f4f8ce94a8>,\n",
       " <shapely.geometry.polygon.Polygon at 0x1f4f8ce9550>,\n",
       " <shapely.geometry.polygon.Polygon at 0x1f4a2f42f28>,\n",
       " <shapely.geometry.polygon.Polygon at 0x1f4f8ce9400>,\n",
       " <shapely.geometry.polygon.Polygon at 0x1f4f8dba2e8>,\n",
       " <shapely.geometry.polygon.Polygon at 0x1f4f8dbad68>,\n",
       " <shapely.geometry.polygon.Polygon at 0x1f4f8dbaf98>,\n",
       " <shapely.geometry.polygon.Polygon at 0x1f4f8dbadd8>]"
      ]
     },
     "execution_count": 90,
     "metadata": {},
     "output_type": "execute_result"
    }
   ],
   "source": [
    "list(multipoly)"
   ]
  },
  {
   "cell_type": "code",
   "execution_count": 91,
   "metadata": {},
   "outputs": [
    {
     "data": {
      "image/svg+xml": [
       "<svg xmlns=\"http://www.w3.org/2000/svg\" xmlns:xlink=\"http://www.w3.org/1999/xlink\" width=\"209.00072150526103\" height=\"194.5765534248203\" viewBox=\"556207.0141492167 5929736.369899374 209.00072150526103 194.5765534248203\" preserveAspectRatio=\"xMinYMin meet\"><g transform=\"matrix(1,0,0,-1,0,11859667.316352174)\"><path fill-rule=\"evenodd\" fill=\"#66cc99\" stroke=\"#555555\" stroke-width=\"2.0\" opacity=\"0.6\" d=\"M 556216.8857300201,5929744.110666838 L 556214.7549166798,5929923.205685336 L 556408.2741032589,5929923.205685336 L 556408.2741032589,5929746.399557728 L 556216.8857467653,5929744.110666838 L 556216.8857300201,5929744.110666838 z\" /></g></svg>"
      ],
      "text/plain": [
       "<shapely.geometry.polygon.Polygon at 0x1f4f8ddd208>"
      ]
     },
     "execution_count": 91,
     "metadata": {},
     "output_type": "execute_result"
    }
   ],
   "source": [
    "multipoly[0]"
   ]
  },
  {
   "cell_type": "code",
   "execution_count": 63,
   "metadata": {},
   "outputs": [],
   "source": [
    "x_coordinates_array = []\n",
    "y_coordinates_array = []\n",
    "\n",
    "for poly in multipoly:\n",
    "    x,y = poly.exterior.xy\n",
    "    x_coordinates_array.append(x)\n",
    "    y_coordinates_array.append(y)"
   ]
  },
  {
   "cell_type": "markdown",
   "metadata": {},
   "source": [
    "### Step 2"
   ]
  },
  {
   "cell_type": "markdown",
   "metadata": {},
   "source": [
    "###### substep 2.1"
   ]
  },
  {
   "cell_type": "code",
   "execution_count": null,
   "metadata": {},
   "outputs": [],
   "source": [
    "coordinates = np.array(convexhull_poly_calculated.exterior.coords)\n",
    "x_range = np.max(coordinates, axis=0)[0]-np.min(coordinates, axis=0)[0]\n",
    "y_range = np.max(coordinates, axis=0)[1]-np.min(coordinates, axis=0)[1]"
   ]
  },
  {
   "cell_type": "markdown",
   "metadata": {},
   "source": [
    "###### substep 2.2"
   ]
  },
  {
   "cell_type": "code",
   "execution_count": null,
   "metadata": {},
   "outputs": [],
   "source": []
  }
 ],
 "metadata": {
  "kernelspec": {
   "display_name": "Python 3",
   "language": "python",
   "name": "python3"
  },
  "language_info": {
   "codemirror_mode": {
    "name": "ipython",
    "version": 3
   },
   "file_extension": ".py",
   "mimetype": "text/x-python",
   "name": "python",
   "nbconvert_exporter": "python",
   "pygments_lexer": "ipython3",
   "version": "3.6.7"
  }
 },
 "nbformat": 4,
 "nbformat_minor": 4
}
